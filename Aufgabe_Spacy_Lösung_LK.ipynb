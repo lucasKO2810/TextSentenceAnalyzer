{
 "cells": [
  {
   "cell_type": "markdown",
   "metadata": {},
   "source": [
    "# Testaufgabe - Satzlängenanalyse mit SpaCy"
   ]
  },
  {
   "cell_type": "markdown",
   "metadata": {},
   "source": [
    "Wir arbeiten mit Texten. Unser Ziel ist es, Texte zu analysieren und zu bewerten.\n",
    "\n",
    "Es gibt sehr viele Möglichkeiten einen Text zu bewerten oder zu charakterisieren. Eine recht einfache Methode ist die Analyse von Satzlängen in einem Text.\n",
    "\n",
    "Um einzelne Sätz in einem Text zu erkennen nutzen wir [SpaCy](https://spacy.io/)."
   ]
  },
  {
   "cell_type": "markdown",
   "metadata": {},
   "source": [
    "#### Beispieltext:"
   ]
  },
  {
   "cell_type": "code",
   "execution_count": 1,
   "metadata": {},
   "outputs": [],
   "source": [
    "text = \"\"\"\n",
    "    Clean Code ist ein Begriff aus der Softwaretechnik, der seinen Ursprung im gleichnamigen Buch von Robert Cecil Martin hat. \n",
    "    Als „sauber“ bezeichnen Softwareentwickler in erster Linie Quellcode, aber auch Dokumente, Konzepte, Regeln und Verfahren, \n",
    "    die intuitiv verständlich sind. Als intuitiv verständlich gilt alles, was mit wenig Aufwand und in kurzer Zeit richtig \n",
    "    verstanden werden kann. Vorteile von Clean Code sind stabilere und effizient wartbarere Programme, d. h. kürzere \n",
    "    Entwicklungszeiten bei Funktionserweiterung und Fehlerbehebungen. Die Bedeutung wächst mit der Beobachtung, \n",
    "    dass im Schnitt 80 % der Lebensdauer einer Software auf den Wartungszeitraum entfällt.\n",
    "    Die Notwendigkeit, Code noch nach der Entwicklung von „unsauberen“ Stellen zu reinigen, wird häufig nicht \n",
    "    gesehen oder vom Management nicht bewilligt, sobald das Programm seine vorgesehene Funktion ausübt. \n",
    "    Ein direktes Schreiben von „sauberem“ Code ist nahezu unmöglich, kann jedoch durch den bewussten Umgang \n",
    "    mit den Prinzipien und Praktiken von Clean Code verbessert werden.\n",
    "\"\"\"\n",
    "\n",
    "new_text = \"\"\"\n",
    "                    Mal sehen was passiert wenn wir einen neuen Textabschnitt hinzufügen. Ich hoffe es funktioniert.\n",
    "                \"\"\" \n",
    "\n",
    "text_2 = \"\"\"\n",
    "            Erweitert man die Anzahl der Texte passt sich die neue Verteilungsfunktion an. Das ganze ist so geschrieben, dass die extrahierten Sätze für weitere Analysen bereit stehen. Außerdem habe ich zum besseren Verständnis, Kommentare hinzugefügt.\n",
    "            \"\"\""
   ]
  },
  {
   "cell_type": "markdown",
   "metadata": {},
   "source": [
    "#### Aufgabe\n",
    "* Ergänze das Notebook\n",
    "* Analysiere den Beispieltext auf die Verteilung der Satzlängen im Text\n",
    "* Die Auswertung des Ergebnis sollte auch mit Spacy visualisiert werden\n",
    "* Das Ergebnis sollte – im Hinblick auf andere Teammitglieder – einfach und verständlich dargestellt werden. Das betrifft den Code und die Darstellung des Ergebnis im Notebook\n",
    "* Das Ergebnis sollte es anderen ermöglichen darauf aufzubauen und damit weiter zu arbeiten.\n",
    "* Es kommt hier nicht auf Geschwindigkeit an\n",
    "* Natürlich können auch andere Python-Module verwendet werden (pandas, numpy, etc.)\n",
    "\n",
    "Bei Fragen kannst Du mich gerne per Mail oder Telefon erreichen\n",
    "* mail tc@cvt-engineering.de\n",
    "* fon 030/64464933"
   ]
  },
  {
   "cell_type": "markdown",
   "metadata": {},
   "source": [
    "---"
   ]
  },
  {
   "cell_type": "markdown",
   "metadata": {},
   "source": [
    "## Lösung"
   ]
  },
  {
   "cell_type": "code",
   "execution_count": 2,
   "metadata": {},
   "outputs": [
    {
     "name": "stdout",
     "output_type": "stream",
     "text": [
      "Requirement already satisfied: numpy in /Users/Lucas/anaconda3/lib/python3.7/site-packages (1.15.4)\n",
      "Requirement already up-to-date: spacy in /Users/Lucas/anaconda3/lib/python3.7/site-packages (3.0.6)\n",
      "Requirement already satisfied, skipping upgrade: cymem<2.1.0,>=2.0.2 in /Users/Lucas/anaconda3/lib/python3.7/site-packages (from spacy) (2.0.5)\n",
      "Requirement already satisfied, skipping upgrade: typing-extensions<4.0.0.0,>=3.7.4; python_version < \"3.8\" in /Users/Lucas/anaconda3/lib/python3.7/site-packages (from spacy) (3.7.4.3)\n",
      "Requirement already satisfied, skipping upgrade: wasabi<1.1.0,>=0.8.1 in /Users/Lucas/anaconda3/lib/python3.7/site-packages (from spacy) (0.8.2)\n",
      "Requirement already satisfied, skipping upgrade: packaging>=20.0 in /Users/Lucas/anaconda3/lib/python3.7/site-packages (from spacy) (20.9)\n",
      "Requirement already satisfied, skipping upgrade: preshed<3.1.0,>=3.0.2 in /Users/Lucas/anaconda3/lib/python3.7/site-packages (from spacy) (3.0.5)\n",
      "Requirement already satisfied, skipping upgrade: thinc<8.1.0,>=8.0.3 in /Users/Lucas/anaconda3/lib/python3.7/site-packages (from spacy) (8.0.3)\n",
      "Requirement already satisfied, skipping upgrade: srsly<3.0.0,>=2.4.1 in /Users/Lucas/anaconda3/lib/python3.7/site-packages (from spacy) (2.4.1)\n",
      "Requirement already satisfied, skipping upgrade: catalogue<2.1.0,>=2.0.3 in /Users/Lucas/anaconda3/lib/python3.7/site-packages (from spacy) (2.0.4)\n",
      "Requirement already satisfied, skipping upgrade: blis<0.8.0,>=0.4.0 in /Users/Lucas/anaconda3/lib/python3.7/site-packages (from spacy) (0.7.4)\n",
      "Requirement already satisfied, skipping upgrade: typer<0.4.0,>=0.3.0 in /Users/Lucas/anaconda3/lib/python3.7/site-packages (from spacy) (0.3.2)\n",
      "Requirement already satisfied, skipping upgrade: jinja2 in /Users/Lucas/anaconda3/lib/python3.7/site-packages (from spacy) (2.10)\n",
      "Requirement already satisfied, skipping upgrade: pydantic<1.8.0,>=1.7.1 in /Users/Lucas/anaconda3/lib/python3.7/site-packages (from spacy) (1.7.4)\n",
      "Requirement already satisfied, skipping upgrade: pathy>=0.3.5 in /Users/Lucas/anaconda3/lib/python3.7/site-packages (from spacy) (0.5.2)\n",
      "Requirement already satisfied, skipping upgrade: tqdm<5.0.0,>=4.38.0 in /Users/Lucas/anaconda3/lib/python3.7/site-packages (from spacy) (4.60.0)\n",
      "Requirement already satisfied, skipping upgrade: requests<3.0.0,>=2.13.0 in /Users/Lucas/anaconda3/lib/python3.7/site-packages (from spacy) (2.21.0)\n",
      "Requirement already satisfied, skipping upgrade: numpy>=1.15.0 in /Users/Lucas/anaconda3/lib/python3.7/site-packages (from spacy) (1.15.4)\n",
      "Requirement already satisfied, skipping upgrade: setuptools in /Users/Lucas/anaconda3/lib/python3.7/site-packages (from spacy) (40.6.3)\n",
      "Requirement already satisfied, skipping upgrade: murmurhash<1.1.0,>=0.28.0 in /Users/Lucas/anaconda3/lib/python3.7/site-packages (from spacy) (1.0.5)\n",
      "Requirement already satisfied, skipping upgrade: spacy-legacy<3.1.0,>=3.0.4 in /Users/Lucas/anaconda3/lib/python3.7/site-packages (from spacy) (3.0.5)\n",
      "Requirement already satisfied, skipping upgrade: pyparsing>=2.0.2 in /Users/Lucas/anaconda3/lib/python3.7/site-packages (from packaging>=20.0->spacy) (2.3.0)\n",
      "Requirement already satisfied, skipping upgrade: zipp>=0.5; python_version < \"3.8\" in /Users/Lucas/anaconda3/lib/python3.7/site-packages (from catalogue<2.1.0,>=2.0.3->spacy) (3.4.1)\n",
      "Requirement already satisfied, skipping upgrade: click<7.2.0,>=7.1.1 in /Users/Lucas/anaconda3/lib/python3.7/site-packages (from typer<0.4.0,>=0.3.0->spacy) (7.1.2)\n",
      "Requirement already satisfied, skipping upgrade: MarkupSafe>=0.23 in /Users/Lucas/anaconda3/lib/python3.7/site-packages (from jinja2->spacy) (1.1.0)\n",
      "Requirement already satisfied, skipping upgrade: smart-open<4.0.0,>=2.2.0 in /Users/Lucas/anaconda3/lib/python3.7/site-packages (from pathy>=0.3.5->spacy) (3.0.0)\n",
      "Requirement already satisfied, skipping upgrade: certifi>=2017.4.17 in /Users/Lucas/anaconda3/lib/python3.7/site-packages (from requests<3.0.0,>=2.13.0->spacy) (2018.11.29)\n",
      "Requirement already satisfied, skipping upgrade: chardet<3.1.0,>=3.0.2 in /Users/Lucas/anaconda3/lib/python3.7/site-packages (from requests<3.0.0,>=2.13.0->spacy) (3.0.4)\n",
      "Requirement already satisfied, skipping upgrade: urllib3<1.25,>=1.21.1 in /Users/Lucas/anaconda3/lib/python3.7/site-packages (from requests<3.0.0,>=2.13.0->spacy) (1.24.1)\n",
      "Requirement already satisfied, skipping upgrade: idna<2.9,>=2.5 in /Users/Lucas/anaconda3/lib/python3.7/site-packages (from requests<3.0.0,>=2.13.0->spacy) (2.8)\n",
      "Requirement already satisfied: pandas in /Users/Lucas/anaconda3/lib/python3.7/site-packages (0.23.4)\n",
      "Requirement already satisfied: python-dateutil>=2.5.0 in /Users/Lucas/anaconda3/lib/python3.7/site-packages (from pandas) (2.7.5)\n",
      "Requirement already satisfied: pytz>=2011k in /Users/Lucas/anaconda3/lib/python3.7/site-packages (from pandas) (2018.7)\n",
      "Requirement already satisfied: numpy>=1.9.0 in /Users/Lucas/anaconda3/lib/python3.7/site-packages (from pandas) (1.15.4)\n",
      "Requirement already satisfied: six>=1.5 in /Users/Lucas/anaconda3/lib/python3.7/site-packages (from python-dateutil>=2.5.0->pandas) (1.12.0)\n",
      "Collecting matplotlib.pyplot\n",
      "\u001b[31m  Could not find a version that satisfies the requirement matplotlib.pyplot (from versions: )\u001b[0m\n",
      "\u001b[31mNo matching distribution found for matplotlib.pyplot\u001b[0m\n",
      "Requirement already satisfied: de-core-news-sm==3.0.0 from https://github.com/explosion/spacy-models/releases/download/de_core_news_sm-3.0.0/de_core_news_sm-3.0.0-py3-none-any.whl#egg=de_core_news_sm==3.0.0 in /Users/Lucas/anaconda3/lib/python3.7/site-packages (3.0.0)\n",
      "Requirement already satisfied: spacy<3.1.0,>=3.0.0 in /Users/Lucas/anaconda3/lib/python3.7/site-packages (from de-core-news-sm==3.0.0) (3.0.6)\n",
      "Requirement already satisfied: requests<3.0.0,>=2.13.0 in /Users/Lucas/anaconda3/lib/python3.7/site-packages (from spacy<3.1.0,>=3.0.0->de-core-news-sm==3.0.0) (2.21.0)\n",
      "Requirement already satisfied: blis<0.8.0,>=0.4.0 in /Users/Lucas/anaconda3/lib/python3.7/site-packages (from spacy<3.1.0,>=3.0.0->de-core-news-sm==3.0.0) (0.7.4)\n",
      "Requirement already satisfied: pydantic<1.8.0,>=1.7.1 in /Users/Lucas/anaconda3/lib/python3.7/site-packages (from spacy<3.1.0,>=3.0.0->de-core-news-sm==3.0.0) (1.7.4)\n",
      "Requirement already satisfied: packaging>=20.0 in /Users/Lucas/anaconda3/lib/python3.7/site-packages (from spacy<3.1.0,>=3.0.0->de-core-news-sm==3.0.0) (20.9)\n",
      "Requirement already satisfied: spacy-legacy<3.1.0,>=3.0.4 in /Users/Lucas/anaconda3/lib/python3.7/site-packages (from spacy<3.1.0,>=3.0.0->de-core-news-sm==3.0.0) (3.0.5)\n",
      "Requirement already satisfied: pathy>=0.3.5 in /Users/Lucas/anaconda3/lib/python3.7/site-packages (from spacy<3.1.0,>=3.0.0->de-core-news-sm==3.0.0) (0.5.2)\n",
      "Requirement already satisfied: tqdm<5.0.0,>=4.38.0 in /Users/Lucas/anaconda3/lib/python3.7/site-packages (from spacy<3.1.0,>=3.0.0->de-core-news-sm==3.0.0) (4.60.0)\n",
      "Requirement already satisfied: numpy>=1.15.0 in /Users/Lucas/anaconda3/lib/python3.7/site-packages (from spacy<3.1.0,>=3.0.0->de-core-news-sm==3.0.0) (1.15.4)\n",
      "Requirement already satisfied: thinc<8.1.0,>=8.0.3 in /Users/Lucas/anaconda3/lib/python3.7/site-packages (from spacy<3.1.0,>=3.0.0->de-core-news-sm==3.0.0) (8.0.3)\n",
      "Requirement already satisfied: setuptools in /Users/Lucas/anaconda3/lib/python3.7/site-packages (from spacy<3.1.0,>=3.0.0->de-core-news-sm==3.0.0) (40.6.3)\n",
      "Requirement already satisfied: jinja2 in /Users/Lucas/anaconda3/lib/python3.7/site-packages (from spacy<3.1.0,>=3.0.0->de-core-news-sm==3.0.0) (2.10)\n",
      "Requirement already satisfied: catalogue<2.1.0,>=2.0.3 in /Users/Lucas/anaconda3/lib/python3.7/site-packages (from spacy<3.1.0,>=3.0.0->de-core-news-sm==3.0.0) (2.0.4)\n",
      "Requirement already satisfied: typer<0.4.0,>=0.3.0 in /Users/Lucas/anaconda3/lib/python3.7/site-packages (from spacy<3.1.0,>=3.0.0->de-core-news-sm==3.0.0) (0.3.2)\n",
      "Requirement already satisfied: murmurhash<1.1.0,>=0.28.0 in /Users/Lucas/anaconda3/lib/python3.7/site-packages (from spacy<3.1.0,>=3.0.0->de-core-news-sm==3.0.0) (1.0.5)\n",
      "Requirement already satisfied: srsly<3.0.0,>=2.4.1 in /Users/Lucas/anaconda3/lib/python3.7/site-packages (from spacy<3.1.0,>=3.0.0->de-core-news-sm==3.0.0) (2.4.1)\n",
      "Requirement already satisfied: cymem<2.1.0,>=2.0.2 in /Users/Lucas/anaconda3/lib/python3.7/site-packages (from spacy<3.1.0,>=3.0.0->de-core-news-sm==3.0.0) (2.0.5)\n",
      "Requirement already satisfied: typing-extensions<4.0.0.0,>=3.7.4; python_version < \"3.8\" in /Users/Lucas/anaconda3/lib/python3.7/site-packages (from spacy<3.1.0,>=3.0.0->de-core-news-sm==3.0.0) (3.7.4.3)\n",
      "Requirement already satisfied: wasabi<1.1.0,>=0.8.1 in /Users/Lucas/anaconda3/lib/python3.7/site-packages (from spacy<3.1.0,>=3.0.0->de-core-news-sm==3.0.0) (0.8.2)\n",
      "Requirement already satisfied: preshed<3.1.0,>=3.0.2 in /Users/Lucas/anaconda3/lib/python3.7/site-packages (from spacy<3.1.0,>=3.0.0->de-core-news-sm==3.0.0) (3.0.5)\n",
      "Requirement already satisfied: idna<2.9,>=2.5 in /Users/Lucas/anaconda3/lib/python3.7/site-packages (from requests<3.0.0,>=2.13.0->spacy<3.1.0,>=3.0.0->de-core-news-sm==3.0.0) (2.8)\n",
      "Requirement already satisfied: urllib3<1.25,>=1.21.1 in /Users/Lucas/anaconda3/lib/python3.7/site-packages (from requests<3.0.0,>=2.13.0->spacy<3.1.0,>=3.0.0->de-core-news-sm==3.0.0) (1.24.1)\n",
      "Requirement already satisfied: chardet<3.1.0,>=3.0.2 in /Users/Lucas/anaconda3/lib/python3.7/site-packages (from requests<3.0.0,>=2.13.0->spacy<3.1.0,>=3.0.0->de-core-news-sm==3.0.0) (3.0.4)\n",
      "Requirement already satisfied: certifi>=2017.4.17 in /Users/Lucas/anaconda3/lib/python3.7/site-packages (from requests<3.0.0,>=2.13.0->spacy<3.1.0,>=3.0.0->de-core-news-sm==3.0.0) (2018.11.29)\n",
      "Requirement already satisfied: pyparsing>=2.0.2 in /Users/Lucas/anaconda3/lib/python3.7/site-packages (from packaging>=20.0->spacy<3.1.0,>=3.0.0->de-core-news-sm==3.0.0) (2.3.0)\n",
      "Requirement already satisfied: smart-open<4.0.0,>=2.2.0 in /Users/Lucas/anaconda3/lib/python3.7/site-packages (from pathy>=0.3.5->spacy<3.1.0,>=3.0.0->de-core-news-sm==3.0.0) (3.0.0)\n"
     ]
    },
    {
     "name": "stdout",
     "output_type": "stream",
     "text": [
      "Requirement already satisfied: MarkupSafe>=0.23 in /Users/Lucas/anaconda3/lib/python3.7/site-packages (from jinja2->spacy<3.1.0,>=3.0.0->de-core-news-sm==3.0.0) (1.1.0)\n",
      "Requirement already satisfied: zipp>=0.5; python_version < \"3.8\" in /Users/Lucas/anaconda3/lib/python3.7/site-packages (from catalogue<2.1.0,>=2.0.3->spacy<3.1.0,>=3.0.0->de-core-news-sm==3.0.0) (3.4.1)\n",
      "Requirement already satisfied: click<7.2.0,>=7.1.1 in /Users/Lucas/anaconda3/lib/python3.7/site-packages (from typer<0.4.0,>=0.3.0->spacy<3.1.0,>=3.0.0->de-core-news-sm==3.0.0) (7.1.2)\n",
      "\u001b[38;5;2m✔ Download and installation successful\u001b[0m\n",
      "You can now load the package via spacy.load('de_core_news_sm')\n"
     ]
    }
   ],
   "source": [
    "## Load modules, so the notebook can import them (- ! shell commands)\n",
    "!pip install numpy \n",
    "!pip install -U spacy\n",
    "!pip install pandas\n",
    "!pip install matplotlib.pyplot\n",
    "!python -m spacy download de_core_news_sm\n",
    "\n",
    "\n"
   ]
  },
  {
   "cell_type": "code",
   "execution_count": 519,
   "metadata": {},
   "outputs": [],
   "source": [
    "## Import necessaries modules\n",
    "import numpy as np\n",
    "import spacy\n",
    "from spacy import displacy\n",
    "import pandas as pd\n",
    "from collections import Counter\n",
    "import matplotlib.pyplot as plt\n",
    "from spacy.tokens import Span"
   ]
  },
  {
   "cell_type": "code",
   "execution_count": 532,
   "metadata": {},
   "outputs": [],
   "source": [
    "class SentencelengthCounter(): ## Class to compute a pdf over possible sentence lengths for a Text(String) as input\n",
    "    \n",
    "    def __init__(self, voc, text):\n",
    "        # Initialize member variables\n",
    "        if self.checkifvalidinput(text) == True: # check if input is from type string\n",
    "            self.input = text\n",
    "            self.vocabular = voc # String corresponding to german language\n",
    "            self.nlp = spacy.load(voc) # Load a natural language proccessing classifier (for german language)\n",
    "            self.doc = self.nlp(text) # get the analyzed document object from nlp classfier\n",
    "            self.sents_ = self.doc.sents # extract the classified sentences from doc object\n",
    "            self.numofsents = 0\n",
    "            self.counts = Counter()\n",
    "    \n",
    "    def trueSentence(self, sentence):\n",
    "            if len(list(sentence)) == 1: # sentences with only 1 character like ' ' are not valid sentences\n",
    "                return False\n",
    "            return True\n",
    "    \n",
    "    \n",
    "    #### possibility to compute the sentencelength on different ways count (words, syllables, letters)\n",
    "    #### here we use the definition: amount of words, but it's easy to extend for other definitions\n",
    "    def sentencelength(self, sentence): # return sentencelength (number of words in a sentence)\n",
    "        senlen = 0\n",
    "        for word in sentence: # go through words in sentence object and proof if their from type alpha and not from type punct\n",
    "            if word.is_alpha or not word.is_punct: # without ' ', ','', '.' etc. (we just count words!)\n",
    "                senlen += 1\n",
    "        return senlen\n",
    "    \n",
    "    # return adjective for sentencelength (depending on the number of words in a sentence)\n",
    "    def getsentencelengthtype(self,sentence):\n",
    "        senlen = self.sentencelength(sentence) # get the number of words in sentence\n",
    "        if senlen < 10:\n",
    "            return \"short\"\n",
    "        elif senlen < 25:\n",
    "            return \"normal\"\n",
    "        else:\n",
    "            return \"long\"\n",
    "        \n",
    "    \n",
    "    def probabilitydensityfunc(self): # create a  probabiltydensityfunction (dict type)\n",
    "        sentencelengths = [] # list of sentencelengths for real sentences\n",
    "        ## go through the doc (of extracted sentences) and collect the sentencelengths if extracted sentence is a 'real' sentence\n",
    "        for sent in self.sents_:\n",
    "            if self.trueSentence(sent):\n",
    "                sentencelengths.append(self.sentencelength(sent)) # collect the sentencelengths\n",
    "                self.numofsents += 1  # count sentences to normalize later\n",
    "                      \n",
    "        self.counts.update(sorted(sentencelengths)) # use Counter object to count how often appears which sentencelength in the text\n",
    "        \n",
    "        \"\"\"\n",
    "            Transform the Counter object to a probabilitydensityfunc (type dictonary) \n",
    "            which depends on the sentencelenths\n",
    "        \"\"\"\n",
    "        probdens = {} ## dictonary {key: sentencelengths, value: likelihood of occurence}\n",
    "        for senleng in self.counts:\n",
    "            probdens[senleng] = self.counts[senleng]/self.numofsents # normalize the values to get probability\n",
    "        return probdens\n",
    "    \n",
    "    def getcounter(self): # return Counterobject for the input text (which sentencenlength shows up how often)\n",
    "        return self.counts\n",
    "    \n",
    "    def getnumofsents(self): # return the number of sentences in a text\n",
    "        return self.numofsents\n",
    "    \n",
    "    def checkifvalidinput(self, text): # check if input is from type string\n",
    "        if isinstance(text, str):\n",
    "            return True\n",
    "        else:\n",
    "            print(\"Input is not a valid String\")\n",
    "            return False\n",
    "                   \n",
    "        \n",
    "        \n",
    "class SpacySenEntVisualizer(SentencelengthCounter):\n",
    "    def __init__(self, voc, text, textindex):\n",
    "        super().__init__(voc, text) # run constructor of SentencelengthCounter\n",
    "        self.colors = {\"long\": \"red\", \"normal\": \"green\", \"short\": \"blue\"} # use colors to differentiate the entities better\n",
    "        self.options = {\"colors\": self.colors}\n",
    "        print(\" #### Initialize Displacy Entities Visualizer #### \\n\")\n",
    "        print(\"Displacy Visualizer for entities per sentence (Text {})\".format(textindex))\n",
    "\n",
    "    def visualize(self):\n",
    "        offset_index = 0 # offset to extract the right parts of the text\n",
    "        for sen in self.sents_: # go trough all sentences\n",
    "            if self.trueSentence(sen): # just take the 'real' sentences\n",
    "                span = self.setlengthlabels_(sen, offset_index) # get the span object with implemented entity labels to the corresponding sentence\n",
    "                self.doc.set_ents([span], default='unmodified') # add new entity\n",
    "                displacy.render(span, style=\"ent\", jupyter=True, options=self.options) # display sentence with entity (NER Visualizer)\n",
    "            offset_index += len(sen) # increase the offset to adapt it for the next sentence     \n",
    "                                            \n",
    "    def setlengthlabels_(self, sen, offset_index): # set for every sentence the corresponding entity label\n",
    "        label = self.getsentencelengthtype(sen) # get the corresponding label to the sentence\n",
    "        span = Span(self.doc, start=offset_index, end=len(sen)+offset_index, label=label) # creat span object with 'label' as entity label\n",
    "        return span\n",
    "            "
   ]
  },
  {
   "cell_type": "code",
   "execution_count": 533,
   "metadata": {},
   "outputs": [],
   "source": [
    "class pdfVisualizer():\n",
    "    \n",
    "    def __init__(self, probdens, maxsenlen):\n",
    "        self.probdens = probdens\n",
    "        self.maxsenlen = maxsenlen ## max sentence length (just to limit the histogram plot)\n",
    "    \n",
    "    def getData(self):\n",
    "        return list(self.probdens.keys()), list(self.probdens.values())\n",
    "        \n",
    "    def transformTopandas(self, data):\n",
    "        return pd.DataFrame({'Sentencelength': data[0], 'Likelihood of occurrence': data[1]}, columns= ['Sentencelength', 'Likelihood of occurrence'])\n",
    "    \n",
    "    def visualizeData(self):\n",
    "        df = self.transformTopandas(self.getData())\n",
    "        \n",
    "        \n",
    "        ### Transform into histogramm with max sentence legth\n",
    "        ### Includes zero elements (just to visualize it better)\n",
    "        histogram = pd.DataFrame({'Sentencelength': np.arange(0, self.maxsenlen + 1), 'Likelihood of occurrence': np.zeros(self.maxsenlen + 1)}, columns= ['Sentencelength', 'Likelihood of occurrence'])\n",
    "        for j in histogram.index:\n",
    "            for i in df.index: \n",
    "                if df['Sentencelength'][i] == histogram['Sentencelength'][j] and df['Sentencelength'][i] < self.maxsenlen:\n",
    "                    histogram['Likelihood of occurrence'][j] = df['Likelihood of occurrence'][i]\n",
    "        \n",
    "        histogram.plot(x='Sentencelength', kind=\"bar\", figsize=(9,8), title=\"Pobabilitydensityfunction over sentencelengths\", legend='Likelihood of occurrence')\n",
    "        plt.show()\n",
    "        "
   ]
  },
  {
   "cell_type": "code",
   "execution_count": 534,
   "metadata": {},
   "outputs": [],
   "source": [
    "def extendDistribution(Counters_): # possible to extend distribution for many SentlenCounters (need a list)\n",
    "    print(\"Combined pdf for all texts\")\n",
    "    pdf_combined = {}\n",
    "    combined_counter = Counter()\n",
    "    combined_numofsents = 0\n",
    "    for Counter_ in Counters_: # go through all Counters from all analyzed texts\n",
    "        combined_counter.update(Counter_.getcounter()) # Add sentencelengths and their occurence to a Counter that includes all texts\n",
    "        combined_numofsents += Counter_.getnumofsents() # Count all number of sentences\n",
    "    \n",
    "    for senleng in sorted(combined_counter.keys()):\n",
    "            pdf_combined[senleng] = combined_counter[senleng]/combined_numofsents # normalize the values to get a probabilty\n",
    "    return pdf_combined    "
   ]
  },
  {
   "cell_type": "code",
   "execution_count": 535,
   "metadata": {},
   "outputs": [],
   "source": [
    "def analyzesentencelengths(text, index, maxlen):\n",
    "    \n",
    "        SenlenCounter = SentencelengthCounter('de_core_news_sm', text) # Initialize SentencelengthCounter per text\n",
    "        probdens = SenlenCounter.probabilitydensityfunc() # pdf over sentencelengths \n",
    "        \n",
    "        ### Visualize entities for every sentence with displacy\n",
    "        spacyvisualizer = SpacySenEntVisualizer(SenlenCounter.vocabular, SenlenCounter.input, index+1) # create entity visualize object \n",
    "        spacyvisualizer.visualize() # visualize results\n",
    "        \n",
    "        ### Visualize the calculated pdf over the sentencelengths\n",
    "        Sentencedistributionvisualizer = pdfVisualizer(probdens, maxlen)  # create the pdfVisualizer\n",
    "        print(\"Dictonary: pdf over sentencelengths for Text {} \\n\".format(index+1))\n",
    "        print(Sentencedistributionvisualizer.transformTopandas(Sentencedistributionvisualizer.getData()))  # print pdf in pandas DataFrame type\n",
    "        Sentencedistributionvisualizer.visualizeData()\n",
    "        \n",
    "        return SenlenCounter"
   ]
  },
  {
   "cell_type": "code",
   "execution_count": 536,
   "metadata": {},
   "outputs": [],
   "source": [
    "def main(texts): \n",
    "    \"\"\"\n",
    "       Want to write a programm that analyzises how often which sentencelength appears in a given text \n",
    "       (or for a tuple of different texts to get a more global solution about sentencelengths distribution)\n",
    "    \"\"\"\n",
    "    max_senlen = 35 ## max sentence length (just to limit the histogram plot)\n",
    "    \n",
    "    SentencelenCounterlist = [] # a list which will contain all SentencelenCounters for every text input\n",
    "    \n",
    "    for index, text_ in enumerate(texts): # loop through all texts \n",
    "        # analyze every text, visualize the results and collect the Sentencelengthcounters (to combine them finally)\n",
    "        SentencelenCounterlist.append(analyzesentencelengths(text_, index, max_senlen))\n",
    "     \n",
    "    ## combine SentencelenCounters and visualize the new distribution ##\n",
    "    print(\"##############\\n\")\n",
    "    print(\"Now it's on to combine all pdf's to get one big pdf\")\n",
    "    print(\"Sentencelength Probabilitydensityfunction of all texts \\n\")\n",
    "    print(\"##############\\n\")\n",
    "    \n",
    "    Sentencedistributionvisualizer_combined = pdfVisualizer(extendDistribution(SentencelenCounterlist), max_senlen)\n",
    "    print(Sentencedistributionvisualizer_combined.transformTopandas(Sentencedistributionvisualizer_combined.getData()))\n",
    "    Sentencedistributionvisualizer_combined.visualizeData() # visualize the data with bars"
   ]
  },
  {
   "cell_type": "code",
   "execution_count": 537,
   "metadata": {
    "scrolled": false
   },
   "outputs": [
    {
     "name": "stdout",
     "output_type": "stream",
     "text": [
      " #### Initialize Displacy Entities Visualizer #### \n",
      "\n",
      "Displacy Visualizer for entities per sentence (Text 1)\n"
     ]
    },
    {
     "data": {
      "text/html": [
       "<span class=\"tex2jax_ignore\"><div class=\"entities\" style=\"line-height: 2.5; direction: ltr\">\n",
       "<mark class=\"entity\" style=\"background: green; padding: 0.45em 0.6em; margin: 0 0.25em; line-height: 1; border-radius: 0.35em;\">\n",
       "    Clean Code ist ein Begriff aus der Softwaretechnik, der seinen Ursprung im gleichnamigen Buch von Robert Cecil Martin hat.\n",
       "    <span style=\"font-size: 0.8em; font-weight: bold; line-height: 1; border-radius: 0.35em; vertical-align: middle; margin-left: 0.5rem\">normal</span>\n",
       "</mark>\n",
       " </div></span>"
      ],
      "text/plain": [
       "<IPython.core.display.HTML object>"
      ]
     },
     "metadata": {},
     "output_type": "display_data"
    },
    {
     "data": {
      "text/html": [
       "<span class=\"tex2jax_ignore\"><div class=\"entities\" style=\"line-height: 2.5; direction: ltr\">\n",
       "<mark class=\"entity\" style=\"background: green; padding: 0.45em 0.6em; margin: 0 0.25em; line-height: 1; border-radius: 0.35em;\">\n",
       "    \n",
       "    Als „sauber“ bezeichnen Softwareentwickler in erster Linie Quellcode, aber auch Dokumente, Konzepte, Regeln und Verfahren, \n",
       "    die intuitiv verständlich sind.\n",
       "    <span style=\"font-size: 0.8em; font-weight: bold; line-height: 1; border-radius: 0.35em; vertical-align: middle; margin-left: 0.5rem\">normal</span>\n",
       "</mark>\n",
       " </div></span>"
      ],
      "text/plain": [
       "<IPython.core.display.HTML object>"
      ]
     },
     "metadata": {},
     "output_type": "display_data"
    },
    {
     "data": {
      "text/html": [
       "<span class=\"tex2jax_ignore\"><div class=\"entities\" style=\"line-height: 2.5; direction: ltr\">\n",
       "<mark class=\"entity\" style=\"background: green; padding: 0.45em 0.6em; margin: 0 0.25em; line-height: 1; border-radius: 0.35em;\">\n",
       "    Als intuitiv verständlich gilt alles, was mit wenig Aufwand und in kurzer Zeit richtig \n",
       "    verstanden werden kann.\n",
       "    <span style=\"font-size: 0.8em; font-weight: bold; line-height: 1; border-radius: 0.35em; vertical-align: middle; margin-left: 0.5rem\">normal</span>\n",
       "</mark>\n",
       " </div></span>"
      ],
      "text/plain": [
       "<IPython.core.display.HTML object>"
      ]
     },
     "metadata": {},
     "output_type": "display_data"
    },
    {
     "data": {
      "text/html": [
       "<span class=\"tex2jax_ignore\"><div class=\"entities\" style=\"line-height: 2.5; direction: ltr\">\n",
       "<mark class=\"entity\" style=\"background: green; padding: 0.45em 0.6em; margin: 0 0.25em; line-height: 1; border-radius: 0.35em;\">\n",
       "    Vorteile von Clean Code sind stabilere und effizient wartbarere Programme, d. h. kürzere \n",
       "    Entwicklungszeiten bei Funktionserweiterung und Fehlerbehebungen.\n",
       "    <span style=\"font-size: 0.8em; font-weight: bold; line-height: 1; border-radius: 0.35em; vertical-align: middle; margin-left: 0.5rem\">normal</span>\n",
       "</mark>\n",
       " </div></span>"
      ],
      "text/plain": [
       "<IPython.core.display.HTML object>"
      ]
     },
     "metadata": {},
     "output_type": "display_data"
    },
    {
     "data": {
      "text/html": [
       "<span class=\"tex2jax_ignore\"><div class=\"entities\" style=\"line-height: 2.5; direction: ltr\">\n",
       "<mark class=\"entity\" style=\"background: green; padding: 0.45em 0.6em; margin: 0 0.25em; line-height: 1; border-radius: 0.35em;\">\n",
       "    Die Bedeutung wächst mit der Beobachtung, \n",
       "    dass im Schnitt 80 % der Lebensdauer einer Software auf den Wartungszeitraum entfällt.\n",
       "    <span style=\"font-size: 0.8em; font-weight: bold; line-height: 1; border-radius: 0.35em; vertical-align: middle; margin-left: 0.5rem\">normal</span>\n",
       "</mark>\n",
       "</div></span>"
      ],
      "text/plain": [
       "<IPython.core.display.HTML object>"
      ]
     },
     "metadata": {},
     "output_type": "display_data"
    },
    {
     "data": {
      "text/html": [
       "<span class=\"tex2jax_ignore\"><div class=\"entities\" style=\"line-height: 2.5; direction: ltr\">\n",
       "<mark class=\"entity\" style=\"background: red; padding: 0.45em 0.6em; margin: 0 0.25em; line-height: 1; border-radius: 0.35em;\">\n",
       "    \n",
       "    Die Notwendigkeit, Code noch nach der Entwicklung von „unsauberen“ Stellen zu reinigen, wird häufig nicht \n",
       "    gesehen oder vom Management nicht bewilligt, sobald das Programm seine vorgesehene Funktion ausübt.\n",
       "    <span style=\"font-size: 0.8em; font-weight: bold; line-height: 1; border-radius: 0.35em; vertical-align: middle; margin-left: 0.5rem\">long</span>\n",
       "</mark>\n",
       " </div></span>"
      ],
      "text/plain": [
       "<IPython.core.display.HTML object>"
      ]
     },
     "metadata": {},
     "output_type": "display_data"
    },
    {
     "data": {
      "text/html": [
       "<span class=\"tex2jax_ignore\"><div class=\"entities\" style=\"line-height: 2.5; direction: ltr\">\n",
       "<mark class=\"entity\" style=\"background: red; padding: 0.45em 0.6em; margin: 0 0.25em; line-height: 1; border-radius: 0.35em;\">\n",
       "    \n",
       "    Ein direktes Schreiben von „sauberem“ Code ist nahezu unmöglich, kann jedoch durch den bewussten Umgang \n",
       "    mit den Prinzipien und Praktiken von Clean Code verbessert werden.\n",
       "    <span style=\"font-size: 0.8em; font-weight: bold; line-height: 1; border-radius: 0.35em; vertical-align: middle; margin-left: 0.5rem\">long</span>\n",
       "</mark>\n",
       "</div></span>"
      ],
      "text/plain": [
       "<IPython.core.display.HTML object>"
      ]
     },
     "metadata": {},
     "output_type": "display_data"
    },
    {
     "name": "stdout",
     "output_type": "stream",
     "text": [
      "Dictonary: pdf over sentencelengths for Text 1 \n",
      "\n",
      "   Sentencelength  Likelihood of occurrence\n",
      "0              18                  0.142857\n",
      "1              19                  0.428571\n",
      "2              21                  0.142857\n",
      "3              27                  0.142857\n",
      "4              30                  0.142857\n"
     ]
    },
    {
     "name": "stderr",
     "output_type": "stream",
     "text": [
      "/Users/Lucas/anaconda3/lib/python3.7/site-packages/ipykernel_launcher.py:23: SettingWithCopyWarning: \n",
      "A value is trying to be set on a copy of a slice from a DataFrame\n",
      "\n",
      "See the caveats in the documentation: http://pandas.pydata.org/pandas-docs/stable/indexing.html#indexing-view-versus-copy\n"
     ]
    },
    {
     "data": {
      "image/png": "[encoded data removed]",
      "text/plain": [
       "<Figure size 648x576 with 1 Axes>"
      ]
     },
     "metadata": {
      "needs_background": "light"
     },
     "output_type": "display_data"
    },
    {
     "name": "stdout",
     "output_type": "stream",
     "text": [
      " #### Initialize Displacy Entities Visualizer #### \n",
      "\n",
      "Displacy Visualizer for entities per sentence (Text 2)\n"
     ]
    },
    {
     "data": {
      "text/html": [
       "<span class=\"tex2jax_ignore\"><div class=\"entities\" style=\"line-height: 2.5; direction: ltr\">\n",
       "<mark class=\"entity\" style=\"background: green; padding: 0.45em 0.6em; margin: 0 0.25em; line-height: 1; border-radius: 0.35em;\">\n",
       "    \n",
       "                    Mal sehen was passiert wenn wir einen neuen Textabschnitt hinzufügen.\n",
       "    <span style=\"font-size: 0.8em; font-weight: bold; line-height: 1; border-radius: 0.35em; vertical-align: middle; margin-left: 0.5rem\">normal</span>\n",
       "</mark>\n",
       " </div></span>"
      ],
      "text/plain": [
       "<IPython.core.display.HTML object>"
      ]
     },
     "metadata": {},
     "output_type": "display_data"
    },
    {
     "data": {
      "text/html": [
       "<span class=\"tex2jax_ignore\"><div class=\"entities\" style=\"line-height: 2.5; direction: ltr\">\n",
       "<mark class=\"entity\" style=\"background: blue; padding: 0.45em 0.6em; margin: 0 0.25em; line-height: 1; border-radius: 0.35em;\">\n",
       "    Ich hoffe es funktioniert.\n",
       "    <span style=\"font-size: 0.8em; font-weight: bold; line-height: 1; border-radius: 0.35em; vertical-align: middle; margin-left: 0.5rem\">short</span>\n",
       "</mark>\n",
       "</div></span>"
      ],
      "text/plain": [
       "<IPython.core.display.HTML object>"
      ]
     },
     "metadata": {},
     "output_type": "display_data"
    },
    {
     "name": "stdout",
     "output_type": "stream",
     "text": [
      "Dictonary: pdf over sentencelengths for Text 2 \n",
      "\n",
      "   Sentencelength  Likelihood of occurrence\n",
      "0               4                       0.5\n",
      "1              11                       0.5\n"
     ]
    },
    {
     "data": {
      "image/png": "[encoded data removed]",
      "text/plain": [
       "<Figure size 648x576 with 1 Axes>"
      ]
     },
     "metadata": {
      "needs_background": "light"
     },
     "output_type": "display_data"
    },
    {
     "name": "stdout",
     "output_type": "stream",
     "text": [
      " #### Initialize Displacy Entities Visualizer #### \n",
      "\n",
      "Displacy Visualizer for entities per sentence (Text 3)\n"
     ]
    },
    {
     "data": {
      "text/html": [
       "<span class=\"tex2jax_ignore\"><div class=\"entities\" style=\"line-height: 2.5; direction: ltr\">\n",
       "<mark class=\"entity\" style=\"background: green; padding: 0.45em 0.6em; margin: 0 0.25em; line-height: 1; border-radius: 0.35em;\">\n",
       "    Erweitert man die Anzahl der Texte passt sich die neue Verteilungsfunktion an.\n",
       "    <span style=\"font-size: 0.8em; font-weight: bold; line-height: 1; border-radius: 0.35em; vertical-align: middle; margin-left: 0.5rem\">normal</span>\n",
       "</mark>\n",
       " </div></span>"
      ],
      "text/plain": [
       "<IPython.core.display.HTML object>"
      ]
     },
     "metadata": {},
     "output_type": "display_data"
    },
    {
     "data": {
      "text/html": [
       "<span class=\"tex2jax_ignore\"><div class=\"entities\" style=\"line-height: 2.5; direction: ltr\">\n",
       "<mark class=\"entity\" style=\"background: green; padding: 0.45em 0.6em; margin: 0 0.25em; line-height: 1; border-radius: 0.35em;\">\n",
       "    Das ganze ist so geschrieben, dass die extrahierten Sätze für weitere Analysen bereit stehen.\n",
       "    <span style=\"font-size: 0.8em; font-weight: bold; line-height: 1; border-radius: 0.35em; vertical-align: middle; margin-left: 0.5rem\">normal</span>\n",
       "</mark>\n",
       " </div></span>"
      ],
      "text/plain": [
       "<IPython.core.display.HTML object>"
      ]
     },
     "metadata": {},
     "output_type": "display_data"
    },
    {
     "data": {
      "text/html": [
       "<span class=\"tex2jax_ignore\"><div class=\"entities\" style=\"line-height: 2.5; direction: ltr\">\n",
       "<mark class=\"entity\" style=\"background: blue; padding: 0.45em 0.6em; margin: 0 0.25em; line-height: 1; border-radius: 0.35em;\">\n",
       "    Außerdem habe ich zum besseren Verständnis, Kommentare hinzugefügt.\n",
       "    <span style=\"font-size: 0.8em; font-weight: bold; line-height: 1; border-radius: 0.35em; vertical-align: middle; margin-left: 0.5rem\">short</span>\n",
       "</mark>\n",
       "</div></span>"
      ],
      "text/plain": [
       "<IPython.core.display.HTML object>"
      ]
     },
     "metadata": {},
     "output_type": "display_data"
    },
    {
     "name": "stdout",
     "output_type": "stream",
     "text": [
      "Dictonary: pdf over sentencelengths for Text 3 \n",
      "\n",
      "   Sentencelength  Likelihood of occurrence\n",
      "0               8                  0.333333\n",
      "1              12                  0.333333\n",
      "2              14                  0.333333\n"
     ]
    },
    {
     "data": {
      "image/png": "[encoded data removed]",
      "text/plain": [
       "<Figure size 648x576 with 1 Axes>"
      ]
     },
     "metadata": {
      "needs_background": "light"
     },
     "output_type": "display_data"
    },
    {
     "name": "stdout",
     "output_type": "stream",
     "text": [
      "##############\n",
      "\n",
      "Now it's on to combine all pdf's to get one big pdf\n",
      "Sentencelength Probabilitydensityfunction of all texts \n",
      "\n",
      "##############\n",
      "\n",
      "Combined pdf for all texts\n",
      "   Sentencelength  Likelihood of occurrence\n",
      "0               4                  0.083333\n",
      "1               8                  0.083333\n",
      "2              11                  0.083333\n",
      "3              12                  0.083333\n",
      "4              14                  0.083333\n",
      "5              18                  0.083333\n",
      "6              19                  0.250000\n",
      "7              21                  0.083333\n",
      "8              27                  0.083333\n",
      "9              30                  0.083333\n"
     ]
    },
    {
     "data": {
      "image/png": "[encoded data removed]",
      "text/plain": [
       "<Figure size 648x576 with 1 Axes>"
      ]
     },
     "metadata": {
      "needs_background": "light"
     },
     "output_type": "display_data"
    }
   ],
   "source": [
    "text_tuple =(text, new_text, text_2) ## if you want to analyze more than one text you can insert a tuple of text, there is also the possibilit to pass just one text but as a tuple () with one element\n",
    "\"\"\"\n",
    "    To analyze a text or more texts just pass the text/s as a tuple to the main. The function analyzes\n",
    "\n",
    "\"\"\"\n",
    "main(text_tuple)"
   ]
  },
  {
   "cell_type": "code",
   "execution_count": null,
   "metadata": {},
   "outputs": [],
   "source": []
  }
 ],
 "metadata": {
  "kernelspec": {
   "display_name": "Python 3",
   "language": "python",
   "name": "python3"
  },
  "language_info": {
   "codemirror_mode": {
    "name": "ipython",
    "version": 3
   },
   "file_extension": ".py",
   "mimetype": "text/x-python",
   "name": "python",
   "nbconvert_exporter": "python",
   "pygments_lexer": "ipython3",
   "version": "3.7.1"
  }
 },
 "nbformat": 4,
 "nbformat_minor": 4
}
